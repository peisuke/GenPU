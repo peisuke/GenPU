{
  "nbformat": 4,
  "nbformat_minor": 0,
  "metadata": {
    "colab": {
      "name": "toy_example.ipynb",
      "provenance": [],
      "collapsed_sections": [],
      "authorship_tag": "ABX9TyP7mSdPTU5pFIVyI0nMAYMw",
      "include_colab_link": true
    },
    "kernelspec": {
      "name": "python3",
      "display_name": "Python 3"
    },
    "language_info": {
      "name": "python"
    },
    "accelerator": "GPU"
  },
  "cells": [
    {
      "cell_type": "markdown",
      "metadata": {
        "id": "view-in-github",
        "colab_type": "text"
      },
      "source": [
        "<a href=\"https://colab.research.google.com/github/peisuke/GenPU/blob/main/toy_example.ipynb\" target=\"_parent\"><img src=\"https://colab.research.google.com/assets/colab-badge.svg\" alt=\"Open In Colab\"/></a>"
      ]
    },
    {
      "cell_type": "code",
      "execution_count": null,
      "metadata": {
        "id": "ZZK2v3Evvc7L"
      },
      "outputs": [],
      "source": [
        "import torch\n",
        "import torch.nn as nn\n",
        "import torch.nn.functional as F\n",
        "import torch.optim as optim\n",
        "\n",
        "from sklearn import datasets\n",
        "from sklearn import preprocessing\n",
        "import matplotlib.pyplot as plt\n",
        "import numpy as np"
      ]
    },
    {
      "cell_type": "code",
      "source": [
        "X, z = datasets.make_moons(n_samples=2000, noise=0.05, random_state=0)\n",
        "\n",
        "sc = preprocessing.StandardScaler()\n",
        "sc.fit(X)\n",
        "X = sc.transform(X) / 2"
      ],
      "metadata": {
        "id": "-XbIv6Rf0n0F"
      },
      "execution_count": null,
      "outputs": []
    },
    {
      "cell_type": "code",
      "source": [
        "s = z.copy()\n",
        "s0 = np.zeros_like(s[s == 1])\n",
        "s0[np.random.rand(len(s0)) > 0.8] = 1\n",
        "s[s == 1] = s0"
      ],
      "metadata": {
        "id": "fzVnr2MD1Ly0"
      },
      "execution_count": null,
      "outputs": []
    },
    {
      "cell_type": "code",
      "source": [
        "plt.scatter(X[s==0,0], X[s==0,1], s=3)\n",
        "plt.scatter(X[s==1,0], X[s==1,1], s=3)"
      ],
      "metadata": {
        "colab": {
          "base_uri": "https://localhost:8080/",
          "height": 282
        },
        "id": "hEtseTHm1R3t",
        "outputId": "c9fae0ca-cde7-407c-ccd3-815c08a27a31"
      },
      "execution_count": null,
      "outputs": [
        {
          "output_type": "execute_result",
          "data": {
            "text/plain": [
              "<matplotlib.collections.PathCollection at 0x7f3b8defa650>"
            ]
          },
          "metadata": {},
          "execution_count": 4
        },
        {
          "output_type": "display_data",
          "data": {
            "image/png": "[encoded data removed]",
            "text/plain": [
              "<Figure size 432x288 with 1 Axes>"
            ]
          },
          "metadata": {
            "needs_background": "light"
          }
        }
      ]
    },
    {
      "cell_type": "code",
      "source": [
        "class Dataset(torch.utils.data.Dataset):\n",
        "    def __init__(self, data):\n",
        "        self.data = torch.tensor(data, dtype=torch.float32)\n",
        "\n",
        "    def __len__(self):\n",
        "        return len(self.data)\n",
        "    \n",
        "    def __getitem__(self, idx):\n",
        "        return self.data[idx]"
      ],
      "metadata": {
        "id": "epvnGBf82Foh"
      },
      "execution_count": null,
      "outputs": []
    },
    {
      "cell_type": "code",
      "source": [
        "batchsize = 50\n",
        "\n",
        "labeled_dataset = Dataset(X[s == 1])\n",
        "unlabeled_dataset = Dataset(X[s == 0])\n",
        "\n",
        "labeled_loader = torch.utils.data.DataLoader(labeled_dataset, batch_size = batchsize, shuffle = True, num_workers = 2)\n",
        "unlabeled_loader = torch.utils.data.DataLoader(unlabeled_dataset, batch_size = batchsize, shuffle = True, num_workers = 2)"
      ],
      "metadata": {
        "id": "Z2l72snbf5N5"
      },
      "execution_count": null,
      "outputs": []
    },
    {
      "cell_type": "code",
      "source": [
        "class Generator(nn.Module):\n",
        "    def __init__(self, input_size):\n",
        "        super(Generator, self).__init__()\n",
        "        self.fc1 = nn.Linear(input_size, 128)\n",
        "        self.fc2 = nn.Linear(128, 2)\n",
        "\n",
        "    def forward(self, x):\n",
        "        x = F.relu(self.fc1(x))\n",
        "        return torch.tanh(self.fc2(x))\n",
        "\n",
        "class Discriminator(nn.Module):\n",
        "    def __init__(self):\n",
        "        super(Discriminator, self).__init__()\n",
        "        self.fc1 = nn.Linear(2, 128)\n",
        "        self.fc2 = nn.Linear(128, 1)\n",
        "\n",
        "    def forward(self, x):\n",
        "        x = F.relu(self.fc1(x))\n",
        "        return torch.sigmoid(self.fc2(x))"
      ],
      "metadata": {
        "id": "MvZDGBHd2nB0"
      },
      "execution_count": null,
      "outputs": []
    },
    {
      "cell_type": "code",
      "source": [
        "use_cuda = True\n",
        "device = torch.device(\"cuda\" if use_cuda else \"cpu\")"
      ],
      "metadata": {
        "id": "B_kr4PWrQUEE"
      },
      "execution_count": null,
      "outputs": []
    },
    {
      "cell_type": "code",
      "source": [
        "device"
      ],
      "metadata": {
        "colab": {
          "base_uri": "https://localhost:8080/"
        },
        "id": "YgZAGpNw9cin",
        "outputId": "9f049743-afd4-479e-a535-dfeeaa34c4a5"
      },
      "execution_count": null,
      "outputs": [
        {
          "output_type": "execute_result",
          "data": {
            "text/plain": [
              "device(type='cuda')"
            ]
          },
          "metadata": {},
          "execution_count": 9
        }
      ]
    },
    {
      "cell_type": "code",
      "source": [
        "input_size = 64\n",
        "gen_p = Generator(input_size=input_size).to(device)\n",
        "gen_n = Generator(input_size=input_size).to(device)\n",
        "dis_p = Discriminator().to(device)\n",
        "dis_n = Discriminator().to(device)\n",
        "dis_u = Discriminator().to(device)\n",
        "\n",
        "dp_optimizer = torch.optim.Adam(dis_p.parameters(), lr = 1e-3)\n",
        "dn_optimizer = torch.optim.Adam(dis_n.parameters(), lr = 1e-3)\n",
        "du_optimizer = torch.optim.Adam(dis_u.parameters(), lr = 1e-3)\n",
        "gp_optimizer = torch.optim.Adam(gen_p.parameters(), lr = 1e-3)\n",
        "gn_optimizer = torch.optim.Adam(gen_n.parameters(), lr = 1e-3)"
      ],
      "metadata": {
        "id": "rWtACgVY4NiS"
      },
      "execution_count": null,
      "outputs": []
    },
    {
      "cell_type": "code",
      "source": [
        "def infiniteloop(dataloader):\n",
        "    while True:\n",
        "        for x in iter(dataloader):\n",
        "            yield x"
      ],
      "metadata": {
        "id": "jj75i1VYhbAU"
      },
      "execution_count": null,
      "outputs": []
    },
    {
      "cell_type": "code",
      "source": [
        "real_label = 1.\n",
        "fake_label = 0.\n",
        "criterion = nn.BCELoss()"
      ],
      "metadata": {
        "id": "GkqMdCdlT10Y"
      },
      "execution_count": null,
      "outputs": []
    },
    {
      "cell_type": "code",
      "source": [
        "labeled_looper = infiniteloop(labeled_loader)\n",
        "num_epoch = 1000\n",
        "\n",
        "loss_D_epoch = []\n",
        "loss_G_epoch = []\n",
        "\n",
        "for epoch in range(num_epoch):\n",
        "    G_loss = 0\n",
        "    D_loss = 0\n",
        "\n",
        "    for i, unlabeled_x in enumerate(unlabeled_loader):\n",
        "        z = torch.randn(batchsize, input_size, device=device)\n",
        "        xp = next(labeled_looper).to(device)\n",
        "        xu = unlabeled_x.to(device)\n",
        "\n",
        "        if len(xp) != batchsize:\n",
        "            continue\n",
        "        if len(xu) != batchsize:\n",
        "            continue\n",
        "\n",
        "        dis_p.zero_grad()\n",
        "        dis_n.zero_grad()\n",
        "        dis_u.zero_grad()\n",
        "        gen_p.zero_grad()\n",
        "        gen_n.zero_grad()\n",
        "\n",
        "        label = torch.full((batchsize,), real_label, dtype=torch.float32, device=device)\n",
        "\n",
        "        # update discriminator (positive)\n",
        "        label.fill_(real_label)\n",
        "        out = dis_p(xp).view(-1)\n",
        "        errDp_real = criterion(out, label)\n",
        "        errDp_real.backward()\n",
        "        Dp_x = out.mean().item()\n",
        "        \n",
        "        label.fill_(fake_label)\n",
        "        fake_p = gen_p(z)\n",
        "        out = dis_p(fake_p.detach()).view(-1)\n",
        "        errDp_fake = criterion(out, label)\n",
        "        errDp_fake.backward()\n",
        "        Dp_Gp_z1 = out.mean().item()\n",
        "\n",
        "        errDp = errDp_real + errDp_fake\n",
        "        dp_optimizer.step()\n",
        "        \n",
        "        # update discriminator (negative)\n",
        "        label.fill_(real_label)\n",
        "        out = dis_n(xp).view(-1)\n",
        "        errDn_real = criterion(out, label)\n",
        "        errDn_real.backward()\n",
        "        Dn_x = out.mean().item()\n",
        "\n",
        "        label.fill_(fake_label)\n",
        "        fake_n = gen_n(z)\n",
        "        out = dis_n(fake_n.detach()).view(-1)\n",
        "        errDn_fake = criterion(out, label)\n",
        "        errDn_fake.backward()\n",
        "        Dn_Gn_z1 = out.mean().item()\n",
        "\n",
        "        errDn = errDn_real + errDn_fake\n",
        "        dn_optimizer.step()\n",
        "\n",
        "        # update discriminator (unlabeled)\n",
        "        label.fill_(real_label)\n",
        "        out = dis_u(xu).view(-1)\n",
        "        errDu_real = criterion(out, label)\n",
        "        errDu_real.backward()\n",
        "        Du_x = out.mean().item()\n",
        "\n",
        "        label.fill_(fake_label)\n",
        "        out1 = dis_u(fake_p.detach()).view(-1)\n",
        "        out2 = dis_u(fake_n.detach()).view(-1)\n",
        "        errDu_fake = criterion(out1, label) + criterion(out2, label)\n",
        "        errDu_fake.backward()\n",
        "        du_optimizer.step()\n",
        "\n",
        "        Du_Gp_z1 = out1.mean().item()\n",
        "        Du_Gn_z1 = out2.mean().item()\n",
        "        errDu = errDu_real + errDu_fake\n",
        "\n",
        "        # update generator (positive)\n",
        "        label.fill_(real_label)\n",
        "        out1 = dis_p(fake_p).view(-1)\n",
        "        out2 = dis_u(fake_p).view(-1)\n",
        "        errGp_real= criterion(out1, label) + criterion(out2, label)\n",
        "        errGp_real.backward()\n",
        "        gp_optimizer.step()\n",
        "\n",
        "        Dp_Gp_z2 = out1.mean().item()\n",
        "        Du_Gp_z2 = out2.mean().item()\n",
        "        \n",
        "        # update generator (negative)\n",
        "        label.fill_(real_label)\n",
        "        label2 = torch.full((batchsize,), fake_label, dtype=torch.float32, device=device)\n",
        "        out1 = dis_n(fake_n).view(-1)\n",
        "        out2 = dis_u(fake_n).view(-1)\n",
        "        errGn_real= criterion(out1, label2) + criterion(out2, label)\n",
        "        errGn_real.backward()\n",
        "        gn_optimizer.step()\n",
        "\n",
        "        Dn_Gn_z2 = out1.mean().item()\n",
        "        Du_Gn_z2 = out2.mean().item()\n",
        "        \n",
        "        total_errD = (errDp + errDn + errDu).item()\n",
        "        total_errG = (errGp_real + errGn_real).item()\n",
        "        G_loss += total_errG\n",
        "        D_loss += total_errD\n",
        "    G_loss /= len(unlabeled_loader)\n",
        "    D_loss /= len(unlabeled_loader)\n",
        "\n",
        "    loss_D_epoch.append(D_loss)\n",
        "    loss_G_epoch.append(G_loss)\n",
        "    if epoch % 10 == 0:\n",
        "        print(f'[{epoch}/{num_epoch}]: LossD={D_loss}, LossG={G_loss}')"
      ],
      "metadata": {
        "colab": {
          "base_uri": "https://localhost:8080/"
        },
        "id": "Z8cfpqLTg7HI",
        "outputId": "728a02a4-7d4f-4104-a738-ff56cc3b4e1d"
      },
      "execution_count": null,
      "outputs": [
        {
          "output_type": "stream",
          "name": "stdout",
          "text": [
            "[0/1000]: LossD=3.388206739683409, LossG=2.275372724275331\n",
            "[10/1000]: LossD=2.492092074574651, LossG=2.4048326079909867\n",
            "[20/1000]: LossD=2.6108345276600606, LossG=2.103841446541451\n",
            "[30/1000]: LossD=2.3222572545747497, LossG=2.196898067319715\n",
            "[40/1000]: LossD=2.204339755548013, LossG=2.2987127948451684\n",
            "[50/1000]: LossD=2.2660351637247445, LossG=2.2679632612176843\n",
            "[60/1000]: LossD=2.284652039811418, LossG=2.1865467251958073\n",
            "[70/1000]: LossD=2.41138590993108, LossG=2.2090606882765487\n",
            "[80/1000]: LossD=2.3082787926132613, LossG=2.168390312710324\n",
            "[90/1000]: LossD=2.15762811093717, LossG=2.4749279279966614\n",
            "[100/1000]: LossD=2.2759577196997567, LossG=2.269512969094354\n",
            "[110/1000]: LossD=2.348401701128161, LossG=2.1137513598880253\n",
            "[120/1000]: LossD=2.424440255036225, LossG=2.1881272663941256\n",
            "[130/1000]: LossD=2.335577765026608, LossG=2.3706368948962235\n",
            "[140/1000]: LossD=2.3171250562410095, LossG=2.163456175778363\n",
            "[150/1000]: LossD=2.348749173654092, LossG=2.249324573052896\n",
            "[160/1000]: LossD=2.2725938204172493, LossG=2.4237179949476912\n",
            "[170/1000]: LossD=2.323837074073585, LossG=2.2476826745110587\n",
            "[180/1000]: LossD=2.35672326990076, LossG=2.2209077525783227\n",
            "[190/1000]: LossD=2.177343207436639, LossG=2.2630188078493685\n",
            "[200/1000]: LossD=2.305899091669031, LossG=2.198311999037459\n",
            "[210/1000]: LossD=2.376764407029023, LossG=2.3273822101386816\n",
            "[220/1000]: LossD=2.3251157902382515, LossG=2.205281367173066\n",
            "[230/1000]: LossD=2.3369754713934823, LossG=2.2292714183394975\n",
            "[240/1000]: LossD=2.419139153248555, LossG=2.2116278828801335\n",
            "[250/1000]: LossD=2.3473924881703145, LossG=2.1788235548380257\n",
            "[260/1000]: LossD=2.3510435594094767, LossG=2.2045205348246806\n",
            "[270/1000]: LossD=2.3430652360658386, LossG=2.1658503300434835\n",
            "[280/1000]: LossD=2.3417562278541357, LossG=2.1870782117585876\n",
            "[290/1000]: LossD=2.358000220479192, LossG=2.210941301809775\n",
            "[300/1000]: LossD=2.386047627474811, LossG=2.1804489316167057\n",
            "[310/1000]: LossD=2.330101006739848, LossG=2.2832680264034786\n",
            "[320/1000]: LossD=2.40895364091203, LossG=2.1384200147680335\n",
            "[330/1000]: LossD=2.3706275643529118, LossG=2.1589943073891305\n",
            "[340/1000]: LossD=2.3785402001561344, LossG=2.1595866680145264\n",
            "[350/1000]: LossD=2.4039228477993526, LossG=2.18018998326482\n",
            "[360/1000]: LossD=2.4153587367083573, LossG=2.145782374046944\n",
            "[370/1000]: LossD=2.4464343882895805, LossG=2.1217325829170846\n",
            "[380/1000]: LossD=2.4213873373495565, LossG=2.1626996542956376\n",
            "[390/1000]: LossD=2.3942286130544304, LossG=2.150638187253797\n",
            "[400/1000]: LossD=2.39462398193978, LossG=2.148933268882133\n",
            "[410/1000]: LossD=2.39590521760889, LossG=2.150245866260013\n",
            "[420/1000]: LossD=2.3866932585432723, LossG=2.1418694805454566\n",
            "[430/1000]: LossD=2.3890405281169995, LossG=2.1397210005167366\n",
            "[440/1000]: LossD=2.395204988685814, LossG=2.129044481225916\n",
            "[450/1000]: LossD=2.388930855570613, LossG=2.1421068101315885\n",
            "[460/1000]: LossD=2.3844423229629927, LossG=2.14595094886986\n",
            "[470/1000]: LossD=2.389974639222429, LossG=2.153272648115416\n",
            "[480/1000]: LossD=2.393867183376003, LossG=2.1331787495999723\n",
            "[490/1000]: LossD=2.3883060571309684, LossG=2.1247866798091577\n",
            "[500/1000]: LossD=2.3900644521455505, LossG=2.1562515336114005\n",
            "[510/1000]: LossD=2.3905791269766317, LossG=2.1474778007816626\n",
            "[520/1000]: LossD=2.3946726322174072, LossG=2.1436899739342765\n",
            "[530/1000]: LossD=2.3878942695823877, LossG=2.1365331314705513\n",
            "[540/1000]: LossD=2.3841803911569954, LossG=2.142592771633251\n",
            "[550/1000]: LossD=2.39182287937886, LossG=2.1307839960665316\n",
            "[560/1000]: LossD=2.384556074400206, LossG=2.1312781282373376\n",
            "[570/1000]: LossD=2.3868360648284086, LossG=2.149122038403073\n",
            "[580/1000]: LossD=2.3931683269706934, LossG=2.125475786827706\n",
            "[590/1000]: LossD=2.39575855152027, LossG=2.143769915039475\n",
            "[600/1000]: LossD=2.387794597728832, LossG=2.1297278468673295\n",
            "[610/1000]: LossD=2.3861030307975977, LossG=2.1194610917890393\n",
            "[620/1000]: LossD=2.3920708991385795, LossG=2.144439594165699\n",
            "[630/1000]: LossD=2.390412627039729, LossG=2.1400481623572274\n",
            "[640/1000]: LossD=2.382832656035552, LossG=2.162938388618263\n",
            "[650/1000]: LossD=2.3869196659809835, LossG=2.1474414000640043\n",
            "[660/1000]: LossD=2.3857653978708626, LossG=2.148450754784249\n",
            "[670/1000]: LossD=2.3852485063913704, LossG=2.144287077156273\n",
            "[680/1000]: LossD=2.3880380939792945, LossG=2.1455821475467167\n",
            "[690/1000]: LossD=2.3914661922970333, LossG=2.1531349839390934\n",
            "[700/1000]: LossD=2.3890093468331, LossG=2.159199946635478\n",
            "[710/1000]: LossD=2.3859136233458647, LossG=2.1356147108851253\n",
            "[720/1000]: LossD=2.3816367806615055, LossG=2.140126402313645\n",
            "[730/1000]: LossD=2.3831623889304496, LossG=2.1289188024160026\n",
            "[740/1000]: LossD=2.3916452188749573, LossG=2.1421393897082353\n",
            "[750/1000]: LossD=2.3777831051800704, LossG=2.1307225356230863\n",
            "[760/1000]: LossD=2.388679349744642, LossG=2.1387329165999955\n",
            "[770/1000]: LossD=2.382695217390318, LossG=2.1452743040548787\n",
            "[780/1000]: LossD=2.380645887271778, LossG=2.1385198348277323\n",
            "[790/1000]: LossD=2.377046726845406, LossG=2.1520331228101575\n",
            "[800/1000]: LossD=2.389324561969654, LossG=2.1328924088864714\n",
            "[810/1000]: LossD=2.374615089313404, LossG=2.150454753154033\n",
            "[820/1000]: LossD=2.3815147361239872, LossG=2.156162474606488\n",
            "[830/1000]: LossD=2.38041986645879, LossG=2.140254342878187\n",
            "[840/1000]: LossD=2.383572513992722, LossG=2.146272169577109\n",
            "[850/1000]: LossD=2.377396416019749, LossG=2.14558794691756\n",
            "[860/1000]: LossD=2.378191715962178, LossG=2.146513687597739\n",
            "[870/1000]: LossD=2.3842395834020667, LossG=2.1515009789853483\n",
            "[880/1000]: LossD=2.373801476246602, LossG=2.1362430598284745\n",
            "[890/1000]: LossD=2.3824863176088074, LossG=2.138340473175049\n",
            "[900/1000]: LossD=2.3709195755623482, LossG=2.139899801563572\n",
            "[910/1000]: LossD=2.385663734899985, LossG=2.1443545238391772\n",
            "[920/1000]: LossD=2.3838687716303646, LossG=2.1580441578014478\n",
            "[930/1000]: LossD=2.3776109283034867, LossG=2.137422078364604\n",
            "[940/1000]: LossD=2.384124472334578, LossG=2.170952661617382\n",
            "[950/1000]: LossD=2.3781667528925716, LossG=2.131013283858428\n",
            "[960/1000]: LossD=2.390983194918246, LossG=2.1413342115041374\n",
            "[970/1000]: LossD=2.3811894623008936, LossG=2.1439165038031502\n",
            "[980/1000]: LossD=2.3931091927193306, LossG=2.1471573211051322\n",
            "[990/1000]: LossD=2.376787791381011, LossG=2.1347341859662854\n"
          ]
        }
      ]
    },
    {
      "cell_type": "code",
      "source": [
        "plt.plot(loss_D_epoch)\n",
        "plt.plot(loss_G_epoch)"
      ],
      "metadata": {
        "colab": {
          "base_uri": "https://localhost:8080/",
          "height": 282
        },
        "id": "GKOxnsDi_yvo",
        "outputId": "cd8340a0-c1f5-4a1d-a690-40aaddd634a6"
      },
      "execution_count": null,
      "outputs": [
        {
          "output_type": "execute_result",
          "data": {
            "text/plain": [
              "[<matplotlib.lines.Line2D at 0x7f3b80339610>]"
            ]
          },
          "metadata": {},
          "execution_count": 14
        },
        {
          "output_type": "display_data",
          "data": {
            "image/png": "[encoded data removed]",
            "text/plain": [
              "<Figure size 432x288 with 1 Axes>"
            ]
          },
          "metadata": {
            "needs_background": "light"
          }
        }
      ]
    },
    {
      "cell_type": "code",
      "source": [
        "with torch.no_grad():\n",
        "    z = torch.randn(256, input_size, device=device)\n",
        "    out_p_fake = gen_p(z).cpu().numpy()\n",
        "    out_n_fake = gen_n(z).cpu().numpy()\n",
        "    xp = torch.tensor(labeled_dataset[0:256]).to(device)\n",
        "    out_p_real = xp.cpu().numpy()"
      ],
      "metadata": {
        "colab": {
          "base_uri": "https://localhost:8080/"
        },
        "id": "QLTegv52mKx-",
        "outputId": "e5359ee8-85a1-463c-9aa6-654af7f0b990"
      },
      "execution_count": null,
      "outputs": [
        {
          "output_type": "stream",
          "name": "stderr",
          "text": [
            "/usr/local/lib/python3.7/dist-packages/ipykernel_launcher.py:5: UserWarning: To copy construct from a tensor, it is recommended to use sourceTensor.clone().detach() or sourceTensor.clone().detach().requires_grad_(True), rather than torch.tensor(sourceTensor).\n",
            "  \"\"\"\n"
          ]
        }
      ]
    },
    {
      "cell_type": "code",
      "source": [
        "plt.scatter(out_p_fake[:,0], out_p_fake[:,1])\n",
        "plt.scatter(out_n_fake[:,0], out_n_fake[:,1])"
      ],
      "metadata": {
        "colab": {
          "base_uri": "https://localhost:8080/",
          "height": 282
        },
        "id": "FZB2uiQ9RrBs",
        "outputId": "4994b79d-1b32-45a7-d5c6-a8cf2909ea7b"
      },
      "execution_count": null,
      "outputs": [
        {
          "output_type": "execute_result",
          "data": {
            "text/plain": [
              "<matplotlib.collections.PathCollection at 0x7f3b8029fc50>"
            ]
          },
          "metadata": {},
          "execution_count": 16
        },
        {
          "output_type": "display_data",
          "data": {
            "image/png": "[encoded data removed]",
            "text/plain": [
              "<Figure size 432x288 with 1 Axes>"
            ]
          },
          "metadata": {
            "needs_background": "light"
          }
        }
      ]
    },
    {
      "cell_type": "code",
      "source": [
        ""
      ],
      "metadata": {
        "id": "Kz6tzAJlbLi_"
      },
      "execution_count": null,
      "outputs": []
    }
  ]
}